{
 "cells": [
  {
   "cell_type": "code",
   "execution_count": null,
   "metadata": {},
   "outputs": [],
   "source": [
    "#IST652\n",
    "#Lalit mohan\n",
    "#Mini Project\n",
    "#We are using airbnb data set for this project\n"
   ]
  },
  {
   "cell_type": "code",
   "execution_count": 2,
   "metadata": {},
   "outputs": [],
   "source": [
    "#Importing the libararies, we are using numpy, pandas and matplotlib to plot the graphs in this project\n",
    "\n",
    "import csv\n",
    "import numpy as num\n",
    "import pandas as pd\n",
    "import matplotlib.pyplot as p\n"
   ]
  },
  {
   "cell_type": "code",
   "execution_count": 3,
   "metadata": {},
   "outputs": [],
   "source": [
    "#In this we are importing the csv file from the work directory \n",
    "\n",
    "infile = 'AB_NYC_2019.csv'  \n",
    "Abnb = pd.read_csv(infile, nrows = 3000) # we are using the infile and readcsv function to impoart data from work directory to Abnb \n"
   ]
  },
  {
   "cell_type": "code",
   "execution_count": 4,
   "metadata": {},
   "outputs": [
    {
     "data": {
      "text/html": [
       "<div>\n",
       "<style scoped>\n",
       "    .dataframe tbody tr th:only-of-type {\n",
       "        vertical-align: middle;\n",
       "    }\n",
       "\n",
       "    .dataframe tbody tr th {\n",
       "        vertical-align: top;\n",
       "    }\n",
       "\n",
       "    .dataframe thead th {\n",
       "        text-align: right;\n",
       "    }\n",
       "</style>\n",
       "<table border=\"1\" class=\"dataframe\">\n",
       "  <thead>\n",
       "    <tr style=\"text-align: right;\">\n",
       "      <th></th>\n",
       "      <th>id</th>\n",
       "      <th>name</th>\n",
       "      <th>host_id</th>\n",
       "      <th>host_name</th>\n",
       "      <th>neighbourhood_group</th>\n",
       "      <th>neighbourhood</th>\n",
       "      <th>latitude</th>\n",
       "      <th>longitude</th>\n",
       "      <th>room_type</th>\n",
       "      <th>price</th>\n",
       "      <th>minimum_nights</th>\n",
       "      <th>number_of_reviews</th>\n",
       "      <th>last_review</th>\n",
       "      <th>reviews_per_month</th>\n",
       "      <th>calculated_host_listings_count</th>\n",
       "      <th>availability_365</th>\n",
       "    </tr>\n",
       "  </thead>\n",
       "  <tbody>\n",
       "    <tr>\n",
       "      <th>0</th>\n",
       "      <td>2539</td>\n",
       "      <td>Clean &amp; quiet apt home by the park</td>\n",
       "      <td>2787</td>\n",
       "      <td>John</td>\n",
       "      <td>Brooklyn</td>\n",
       "      <td>Kensington</td>\n",
       "      <td>40.64749</td>\n",
       "      <td>-73.97237</td>\n",
       "      <td>Private room</td>\n",
       "      <td>149</td>\n",
       "      <td>1</td>\n",
       "      <td>9</td>\n",
       "      <td>2018-10-19</td>\n",
       "      <td>0.21</td>\n",
       "      <td>6</td>\n",
       "      <td>365</td>\n",
       "    </tr>\n",
       "    <tr>\n",
       "      <th>1</th>\n",
       "      <td>2595</td>\n",
       "      <td>Skylit Midtown Castle</td>\n",
       "      <td>2845</td>\n",
       "      <td>Jennifer</td>\n",
       "      <td>Manhattan</td>\n",
       "      <td>Midtown</td>\n",
       "      <td>40.75362</td>\n",
       "      <td>-73.98377</td>\n",
       "      <td>Entire home/apt</td>\n",
       "      <td>225</td>\n",
       "      <td>1</td>\n",
       "      <td>45</td>\n",
       "      <td>2019-05-21</td>\n",
       "      <td>0.38</td>\n",
       "      <td>2</td>\n",
       "      <td>355</td>\n",
       "    </tr>\n",
       "    <tr>\n",
       "      <th>2</th>\n",
       "      <td>3647</td>\n",
       "      <td>THE VILLAGE OF HARLEM....NEW YORK !</td>\n",
       "      <td>4632</td>\n",
       "      <td>Elisabeth</td>\n",
       "      <td>Manhattan</td>\n",
       "      <td>Harlem</td>\n",
       "      <td>40.80902</td>\n",
       "      <td>-73.94190</td>\n",
       "      <td>Private room</td>\n",
       "      <td>150</td>\n",
       "      <td>3</td>\n",
       "      <td>0</td>\n",
       "      <td>NaN</td>\n",
       "      <td>NaN</td>\n",
       "      <td>1</td>\n",
       "      <td>365</td>\n",
       "    </tr>\n",
       "    <tr>\n",
       "      <th>3</th>\n",
       "      <td>3831</td>\n",
       "      <td>Cozy Entire Floor of Brownstone</td>\n",
       "      <td>4869</td>\n",
       "      <td>LisaRoxanne</td>\n",
       "      <td>Brooklyn</td>\n",
       "      <td>Clinton Hill</td>\n",
       "      <td>40.68514</td>\n",
       "      <td>-73.95976</td>\n",
       "      <td>Entire home/apt</td>\n",
       "      <td>89</td>\n",
       "      <td>1</td>\n",
       "      <td>270</td>\n",
       "      <td>2019-07-05</td>\n",
       "      <td>4.64</td>\n",
       "      <td>1</td>\n",
       "      <td>194</td>\n",
       "    </tr>\n",
       "    <tr>\n",
       "      <th>4</th>\n",
       "      <td>5022</td>\n",
       "      <td>Entire Apt: Spacious Studio/Loft by central park</td>\n",
       "      <td>7192</td>\n",
       "      <td>Laura</td>\n",
       "      <td>Manhattan</td>\n",
       "      <td>East Harlem</td>\n",
       "      <td>40.79851</td>\n",
       "      <td>-73.94399</td>\n",
       "      <td>Entire home/apt</td>\n",
       "      <td>80</td>\n",
       "      <td>10</td>\n",
       "      <td>9</td>\n",
       "      <td>2018-11-19</td>\n",
       "      <td>0.10</td>\n",
       "      <td>1</td>\n",
       "      <td>0</td>\n",
       "    </tr>\n",
       "    <tr>\n",
       "      <th>...</th>\n",
       "      <td>...</td>\n",
       "      <td>...</td>\n",
       "      <td>...</td>\n",
       "      <td>...</td>\n",
       "      <td>...</td>\n",
       "      <td>...</td>\n",
       "      <td>...</td>\n",
       "      <td>...</td>\n",
       "      <td>...</td>\n",
       "      <td>...</td>\n",
       "      <td>...</td>\n",
       "      <td>...</td>\n",
       "      <td>...</td>\n",
       "      <td>...</td>\n",
       "      <td>...</td>\n",
       "      <td>...</td>\n",
       "    </tr>\n",
       "    <tr>\n",
       "      <th>2995</th>\n",
       "      <td>1745430</td>\n",
       "      <td>Bohemian 2BR DuplexLoft in Brooklyn</td>\n",
       "      <td>7503643</td>\n",
       "      <td>Vida</td>\n",
       "      <td>Brooklyn</td>\n",
       "      <td>Greenpoint</td>\n",
       "      <td>40.72569</td>\n",
       "      <td>-73.94054</td>\n",
       "      <td>Entire home/apt</td>\n",
       "      <td>159</td>\n",
       "      <td>30</td>\n",
       "      <td>6</td>\n",
       "      <td>2019-06-10</td>\n",
       "      <td>0.10</td>\n",
       "      <td>52</td>\n",
       "      <td>310</td>\n",
       "    </tr>\n",
       "    <tr>\n",
       "      <th>2996</th>\n",
       "      <td>1745658</td>\n",
       "      <td>1 Bedroom in Greenwich Village</td>\n",
       "      <td>9187795</td>\n",
       "      <td>James</td>\n",
       "      <td>Manhattan</td>\n",
       "      <td>Greenwich Village</td>\n",
       "      <td>40.73236</td>\n",
       "      <td>-73.99920</td>\n",
       "      <td>Entire home/apt</td>\n",
       "      <td>260</td>\n",
       "      <td>5</td>\n",
       "      <td>13</td>\n",
       "      <td>2018-10-25</td>\n",
       "      <td>0.21</td>\n",
       "      <td>1</td>\n",
       "      <td>167</td>\n",
       "    </tr>\n",
       "    <tr>\n",
       "      <th>2997</th>\n",
       "      <td>1746726</td>\n",
       "      <td>Chelsea NYC luxury 2 bed/2 bath, garden apt</td>\n",
       "      <td>4051126</td>\n",
       "      <td>Kris</td>\n",
       "      <td>Manhattan</td>\n",
       "      <td>Chelsea</td>\n",
       "      <td>40.74188</td>\n",
       "      <td>-73.99729</td>\n",
       "      <td>Entire home/apt</td>\n",
       "      <td>555</td>\n",
       "      <td>3</td>\n",
       "      <td>111</td>\n",
       "      <td>2019-07-03</td>\n",
       "      <td>1.63</td>\n",
       "      <td>1</td>\n",
       "      <td>191</td>\n",
       "    </tr>\n",
       "    <tr>\n",
       "      <th>2998</th>\n",
       "      <td>1747405</td>\n",
       "      <td>Spacious, Cozy NYC Apartment - 1 Minute to Sub...</td>\n",
       "      <td>9117590</td>\n",
       "      <td>Samantha</td>\n",
       "      <td>Manhattan</td>\n",
       "      <td>East Harlem</td>\n",
       "      <td>40.80012</td>\n",
       "      <td>-73.94087</td>\n",
       "      <td>Private room</td>\n",
       "      <td>87</td>\n",
       "      <td>2</td>\n",
       "      <td>235</td>\n",
       "      <td>2019-06-29</td>\n",
       "      <td>3.37</td>\n",
       "      <td>1</td>\n",
       "      <td>23</td>\n",
       "    </tr>\n",
       "    <tr>\n",
       "      <th>2999</th>\n",
       "      <td>1747833</td>\n",
       "      <td>Affordable Clean Private Room NYC</td>\n",
       "      <td>9197101</td>\n",
       "      <td>Alex Nova York</td>\n",
       "      <td>Bronx</td>\n",
       "      <td>Mount Eden</td>\n",
       "      <td>40.84367</td>\n",
       "      <td>-73.91718</td>\n",
       "      <td>Private room</td>\n",
       "      <td>43</td>\n",
       "      <td>2</td>\n",
       "      <td>11</td>\n",
       "      <td>2014-09-28</td>\n",
       "      <td>0.16</td>\n",
       "      <td>1</td>\n",
       "      <td>338</td>\n",
       "    </tr>\n",
       "  </tbody>\n",
       "</table>\n",
       "<p>3000 rows × 16 columns</p>\n",
       "</div>"
      ],
      "text/plain": [
       "           id                                               name  host_id  \\\n",
       "0        2539                 Clean & quiet apt home by the park     2787   \n",
       "1        2595                              Skylit Midtown Castle     2845   \n",
       "2        3647                THE VILLAGE OF HARLEM....NEW YORK !     4632   \n",
       "3        3831                    Cozy Entire Floor of Brownstone     4869   \n",
       "4        5022   Entire Apt: Spacious Studio/Loft by central park     7192   \n",
       "...       ...                                                ...      ...   \n",
       "2995  1745430                Bohemian 2BR DuplexLoft in Brooklyn  7503643   \n",
       "2996  1745658                     1 Bedroom in Greenwich Village  9187795   \n",
       "2997  1746726        Chelsea NYC luxury 2 bed/2 bath, garden apt  4051126   \n",
       "2998  1747405  Spacious, Cozy NYC Apartment - 1 Minute to Sub...  9117590   \n",
       "2999  1747833                Affordable Clean Private Room NYC    9197101   \n",
       "\n",
       "           host_name neighbourhood_group      neighbourhood  latitude  \\\n",
       "0               John            Brooklyn         Kensington  40.64749   \n",
       "1           Jennifer           Manhattan            Midtown  40.75362   \n",
       "2          Elisabeth           Manhattan             Harlem  40.80902   \n",
       "3        LisaRoxanne            Brooklyn       Clinton Hill  40.68514   \n",
       "4              Laura           Manhattan        East Harlem  40.79851   \n",
       "...              ...                 ...                ...       ...   \n",
       "2995            Vida            Brooklyn         Greenpoint  40.72569   \n",
       "2996           James           Manhattan  Greenwich Village  40.73236   \n",
       "2997            Kris           Manhattan            Chelsea  40.74188   \n",
       "2998        Samantha           Manhattan        East Harlem  40.80012   \n",
       "2999  Alex Nova York               Bronx         Mount Eden  40.84367   \n",
       "\n",
       "      longitude        room_type  price  minimum_nights  number_of_reviews  \\\n",
       "0     -73.97237     Private room    149               1                  9   \n",
       "1     -73.98377  Entire home/apt    225               1                 45   \n",
       "2     -73.94190     Private room    150               3                  0   \n",
       "3     -73.95976  Entire home/apt     89               1                270   \n",
       "4     -73.94399  Entire home/apt     80              10                  9   \n",
       "...         ...              ...    ...             ...                ...   \n",
       "2995  -73.94054  Entire home/apt    159              30                  6   \n",
       "2996  -73.99920  Entire home/apt    260               5                 13   \n",
       "2997  -73.99729  Entire home/apt    555               3                111   \n",
       "2998  -73.94087     Private room     87               2                235   \n",
       "2999  -73.91718     Private room     43               2                 11   \n",
       "\n",
       "     last_review  reviews_per_month  calculated_host_listings_count  \\\n",
       "0     2018-10-19               0.21                               6   \n",
       "1     2019-05-21               0.38                               2   \n",
       "2            NaN                NaN                               1   \n",
       "3     2019-07-05               4.64                               1   \n",
       "4     2018-11-19               0.10                               1   \n",
       "...          ...                ...                             ...   \n",
       "2995  2019-06-10               0.10                              52   \n",
       "2996  2018-10-25               0.21                               1   \n",
       "2997  2019-07-03               1.63                               1   \n",
       "2998  2019-06-29               3.37                               1   \n",
       "2999  2014-09-28               0.16                               1   \n",
       "\n",
       "      availability_365  \n",
       "0                  365  \n",
       "1                  355  \n",
       "2                  365  \n",
       "3                  194  \n",
       "4                    0  \n",
       "...                ...  \n",
       "2995               310  \n",
       "2996               167  \n",
       "2997               191  \n",
       "2998                23  \n",
       "2999               338  \n",
       "\n",
       "[3000 rows x 16 columns]"
      ]
     },
     "execution_count": 4,
     "metadata": {},
     "output_type": "execute_result"
    }
   ],
   "source": [
    "#We are checking the imporetd data here\n",
    "Abnb\n",
    "\n",
    "# The data has 3000 rows and 16 columns"
   ]
  },
  {
   "cell_type": "code",
   "execution_count": 5,
   "metadata": {},
   "outputs": [],
   "source": [
    "#Cleaning of the data to use it for the project\n",
    "\n",
    "Abnb.drop(['last_review', 'id', 'latitude', 'longitude', 'calculated_host_listings_count', 'availability_365', 'reviews_per_month', 'minimum_nights', 'number_of_reviews'], \n",
    "            axis =1, inplace = True)\n",
    "\n"
   ]
  },
  {
   "cell_type": "code",
   "execution_count": 6,
   "metadata": {},
   "outputs": [
    {
     "data": {
      "text/html": [
       "<div>\n",
       "<style scoped>\n",
       "    .dataframe tbody tr th:only-of-type {\n",
       "        vertical-align: middle;\n",
       "    }\n",
       "\n",
       "    .dataframe tbody tr th {\n",
       "        vertical-align: top;\n",
       "    }\n",
       "\n",
       "    .dataframe thead th {\n",
       "        text-align: right;\n",
       "    }\n",
       "</style>\n",
       "<table border=\"1\" class=\"dataframe\">\n",
       "  <thead>\n",
       "    <tr style=\"text-align: right;\">\n",
       "      <th></th>\n",
       "      <th>name</th>\n",
       "      <th>host_id</th>\n",
       "      <th>host_name</th>\n",
       "      <th>neighbourhood_group</th>\n",
       "      <th>neighbourhood</th>\n",
       "      <th>room_type</th>\n",
       "      <th>price</th>\n",
       "    </tr>\n",
       "  </thead>\n",
       "  <tbody>\n",
       "    <tr>\n",
       "      <th>2995</th>\n",
       "      <td>Bohemian 2BR DuplexLoft in Brooklyn</td>\n",
       "      <td>7503643</td>\n",
       "      <td>Vida</td>\n",
       "      <td>Brooklyn</td>\n",
       "      <td>Greenpoint</td>\n",
       "      <td>Entire home/apt</td>\n",
       "      <td>159</td>\n",
       "    </tr>\n",
       "    <tr>\n",
       "      <th>2996</th>\n",
       "      <td>1 Bedroom in Greenwich Village</td>\n",
       "      <td>9187795</td>\n",
       "      <td>James</td>\n",
       "      <td>Manhattan</td>\n",
       "      <td>Greenwich Village</td>\n",
       "      <td>Entire home/apt</td>\n",
       "      <td>260</td>\n",
       "    </tr>\n",
       "    <tr>\n",
       "      <th>2997</th>\n",
       "      <td>Chelsea NYC luxury 2 bed/2 bath, garden apt</td>\n",
       "      <td>4051126</td>\n",
       "      <td>Kris</td>\n",
       "      <td>Manhattan</td>\n",
       "      <td>Chelsea</td>\n",
       "      <td>Entire home/apt</td>\n",
       "      <td>555</td>\n",
       "    </tr>\n",
       "    <tr>\n",
       "      <th>2998</th>\n",
       "      <td>Spacious, Cozy NYC Apartment - 1 Minute to Sub...</td>\n",
       "      <td>9117590</td>\n",
       "      <td>Samantha</td>\n",
       "      <td>Manhattan</td>\n",
       "      <td>East Harlem</td>\n",
       "      <td>Private room</td>\n",
       "      <td>87</td>\n",
       "    </tr>\n",
       "    <tr>\n",
       "      <th>2999</th>\n",
       "      <td>Affordable Clean Private Room NYC</td>\n",
       "      <td>9197101</td>\n",
       "      <td>Alex Nova York</td>\n",
       "      <td>Bronx</td>\n",
       "      <td>Mount Eden</td>\n",
       "      <td>Private room</td>\n",
       "      <td>43</td>\n",
       "    </tr>\n",
       "  </tbody>\n",
       "</table>\n",
       "</div>"
      ],
      "text/plain": [
       "                                                   name  host_id  \\\n",
       "2995                Bohemian 2BR DuplexLoft in Brooklyn  7503643   \n",
       "2996                     1 Bedroom in Greenwich Village  9187795   \n",
       "2997        Chelsea NYC luxury 2 bed/2 bath, garden apt  4051126   \n",
       "2998  Spacious, Cozy NYC Apartment - 1 Minute to Sub...  9117590   \n",
       "2999                Affordable Clean Private Room NYC    9197101   \n",
       "\n",
       "           host_name neighbourhood_group      neighbourhood        room_type  \\\n",
       "2995            Vida            Brooklyn         Greenpoint  Entire home/apt   \n",
       "2996           James           Manhattan  Greenwich Village  Entire home/apt   \n",
       "2997            Kris           Manhattan            Chelsea  Entire home/apt   \n",
       "2998        Samantha           Manhattan        East Harlem     Private room   \n",
       "2999  Alex Nova York               Bronx         Mount Eden     Private room   \n",
       "\n",
       "      price  \n",
       "2995    159  \n",
       "2996    260  \n",
       "2997    555  \n",
       "2998     87  \n",
       "2999     43  "
      ]
     },
     "execution_count": 6,
     "metadata": {},
     "output_type": "execute_result"
    }
   ],
   "source": [
    "#Our data has Customer Name. host_id, host name, neighbourhood_group, neighbourhood, room_type and price\n",
    "\n",
    "Abnb.head(5)    # This will show the first and last 5 rows of the data\n",
    "Abnb.tail(5)\n",
    "\n"
   ]
  },
  {
   "cell_type": "code",
   "execution_count": null,
   "metadata": {},
   "outputs": [],
   "source": [
    "# Question 1: Analyse the popularity of Abnb according to the neighbourhood groups, neighbourhood, \n",
    "#and room types on the basis of the number of bookings and vizualize the output using Matplotlib\n",
    "\n"
   ]
  },
  {
   "cell_type": "code",
   "execution_count": 7,
   "metadata": {},
   "outputs": [],
   "source": [
    "#we are ounting the number of houses based on different paranmeters and creating dictionaries for each categories\n",
    "\n",
    "neighbourhood_group = Abnb.neighbourhood_group.unique()   #gives the neighbourhood group\n",
    "neighbourhood = Abnb.neighbourhood.unique()     #gives the neighbourhood\n",
    "room_type = Abnb.room_type.unique()             #gives the room type\n"
   ]
  },
  {
   "cell_type": "code",
   "execution_count": 8,
   "metadata": {},
   "outputs": [],
   "source": [
    "#creating dictionary \n",
    "neighbourhood_groupdict = {}\n",
    "neighbourhooddict = {}\n",
    "room_typedict = {}\n",
    "\n"
   ]
  },
  {
   "cell_type": "code",
   "execution_count": 9,
   "metadata": {},
   "outputs": [],
   "source": [
    "# neighbourhood_group\n",
    "for group in Abnb['neighbourhood_group']:\n",
    "    if group in neighbourhood_groupdict:\n",
    "        neighbourhood_groupdict[group] += 1\n",
    "    else:\n",
    "        neighbourhood_groupdict[group] = 1"
   ]
  },
  {
   "cell_type": "code",
   "execution_count": 10,
   "metadata": {},
   "outputs": [],
   "source": [
    "#neighbourhood\n",
    "for nb in Abnb['neighbourhood']:\n",
    "    if nb in neighbourhooddict:\n",
    "        neighbourhooddict[nb] += 1\n",
    "    else:\n",
    "        neighbourhooddict[nb] = 1"
   ]
  },
  {
   "cell_type": "code",
   "execution_count": 11,
   "metadata": {},
   "outputs": [],
   "source": [
    "#room type\n",
    "for rtype in Abnb['room_type']:\n",
    "    if rtype in room_typedict:\n",
    "        room_typedict[rtype] += 1\n",
    "    else:\n",
    "        room_typedict[rtype] = 1"
   ]
  },
  {
   "cell_type": "code",
   "execution_count": 12,
   "metadata": {},
   "outputs": [],
   "source": [
    "#We are exporting this data to a csv filr by creating a new csv file Neighbourhood_group_listings\n",
    "f = open(\"Neighbourhood_group_listings.csv\", \"w\")\n",
    "w = csv.writer(f)\n",
    "w.writerow(['Neighbourhood Group Name', 'Number of Listings'])\n",
    "for key, value in neighbourhood_groupdict.items():\n",
    "     w.writerow([key, value])\n",
    "f.close()\n",
    "\n",
    "#Creating and exporting neighbourhood data to a csv file\n",
    "g = open(\"Neighbourhood_listings.csv\", \"w\")\n",
    "w= csv.writer(g)\n",
    "w.writerow(['Neighbourhood Name', 'Number of Listings'])\n",
    "for key, value in neighbourhooddict.items():\n",
    "    w.writerow([key, value])\n",
    "g.close()\n",
    "\n",
    "#Creating and exporting room type data to a csv file\n",
    "h = open(\"Rtype_listings.csv\", \"w\")\n",
    "w= csv.writer(h)\n",
    "w.writerow(['Room Type', 'Number of Listings'])\n",
    "for key, value in room_typedict.items():\n",
    "    w.writerow([key, value])\n",
    "h.close()\n"
   ]
  },
  {
   "cell_type": "code",
   "execution_count": 13,
   "metadata": {},
   "outputs": [],
   "source": [
    "#We will now create graphs using matplotlib\n",
    "\n",
    "\n",
    "neighbourhoodgtouplist = sorted(neighbourhood_groupdict.items() , key = lambda x:x[1], reverse = True)\n",
    "ngx, ngy = zip(*neighbourhoodgtouplist)\n"
   ]
  },
  {
   "cell_type": "code",
   "execution_count": 14,
   "metadata": {},
   "outputs": [
    {
     "data": {
      "image/png": "[encoded data removed]",
      "text/plain": [
       "<Figure size 432x288 with 1 Axes>"
      ]
     },
     "metadata": {
      "needs_background": "light"
     },
     "output_type": "display_data"
    }
   ],
   "source": [
    "#Bargraph showing the neighbourhood group and count\n",
    "\n",
    "p.plot(ngx, ngy, color='blue')    \n",
    "p.bar(ngx, ngy,align='center')\n",
    "p.ylabel('Count in Neighbourhood')\n",
    "p.xlabel('Neighbourhood Group')\n",
    "p.show()\n"
   ]
  },
  {
   "cell_type": "code",
   "execution_count": 15,
   "metadata": {},
   "outputs": [
    {
     "data": {
      "image/png": "[encoded data removed]",
      "text/plain": [
       "<Figure size 432x288 with 1 Axes>"
      ]
     },
     "metadata": {
      "needs_background": "light"
     },
     "output_type": "display_data"
    }
   ],
   "source": [
    "#Bargraph showing the neighbourhood and count\n",
    "\n",
    "neighbourhoodlist = sorted(neighbourhooddict.items(), key = lambda x:x[1], reverse = True)\n",
    "nx, ny = zip(*neighbourhoodlist[:15])\n",
    "\n",
    "p.plot(nx, ny, color='red')    \n",
    "p.bar(nx, ny,align='center')\n",
    "p.xticks(rotation=90)\n",
    "p.ylabel('Top 15 neighbourhoods')\n",
    "p.show()\n"
   ]
  },
  {
   "cell_type": "code",
   "execution_count": 23,
   "metadata": {},
   "outputs": [
    {
     "data": {
      "image/png": "[encoded data removed]",
      "text/plain": [
       "<Figure size 432x288 with 1 Axes>"
      ]
     },
     "metadata": {
      "needs_background": "light"
     },
     "output_type": "display_data"
    }
   ],
   "source": [
    "\n",
    "room_typelist = sorted (room_typedict.items(), key = lambda x:x[1], reverse = True)\n",
    "rx, ry = zip(*room_typelist)\n",
    "\n",
    "p.plot(rx, ry, color='red', linestyle='--')    \n",
    "p.bar(rx, ry,align='center')\n",
    "p.ylabel('Popular room types by airbnb in NYC')\n",
    "p.show()"
   ]
  },
  {
   "cell_type": "code",
   "execution_count": 24,
   "metadata": {},
   "outputs": [
    {
     "data": {
      "image/png": "[encoded data removed]",
      "text/plain": [
       "<Figure size 432x288 with 1 Axes>"
      ]
     },
     "metadata": {
      "needs_background": "light"
     },
     "output_type": "display_data"
    }
   ],
   "source": [
    "#Bargraph showing the neighbourhood and count\n",
    "\n",
    "room_typedictlist = sorted (room_typedict.items(), key = lambda x:x[1], reverse = True)\n",
    "rx, ry = zip(*room_typedictlist)\n",
    "\n",
    "p.plot(rx, ry, color='red')    \n",
    "p.bar(rx, ry,align='center')\n",
    "p.ylabel('Popular room types by airbnb in NYC')\n",
    "p.xlabel('Room Type')\n",
    "p.show()\n",
    "\n"
   ]
  },
  {
   "cell_type": "code",
   "execution_count": null,
   "metadata": {},
   "outputs": [],
   "source": [
    "#Calculate the average bnb rent for a room grouped by different parameters"
   ]
  },
  {
   "cell_type": "code",
   "execution_count": 25,
   "metadata": {},
   "outputs": [],
   "source": [
    "#groupby() to calculate average prices \n",
    "\n",
    "room_type_avg = Abnb.groupby('room_type', as_index = False)[['price']].mean()              # will give the room type aveerage\n",
    "host_id_avg = Abnb.groupby(['host_id', 'host_name'], as_index = False)[['price']].mean()       #will give the host average\n",
    "neighbourhoodgroup_avg = Abnb.groupby('neighbourhood_group', as_index = False)[['price']].mean()  #will give neighbourhood group avergafe\n",
    "neighbourhood_avg = Abnb.groupby('neighbourhood', as_index = False)[['price']].mean()   ##will give neighbourhood avreage\n"
   ]
  },
  {
   "cell_type": "code",
   "execution_count": 26,
   "metadata": {},
   "outputs": [],
   "source": [
    "#Sorting\n",
    "host_id_avg = host_id_avg.sort_values('price', ascending = False)[:5]\n",
    "neighbourhood_avg = neighbourhood_avg.sort_values('price', ascending = False)[:5]\n",
    "room_type_avg = room_type_avg.sort_values('price', ascending = False)\n",
    "neighbourhoodgroup_avg = neighbourhoodgroup_avg.sort_values('price', ascending = False)\n"
   ]
  },
  {
   "cell_type": "code",
   "execution_count": null,
   "metadata": {},
   "outputs": [],
   "source": [
    "\n"
   ]
  },
  {
   "cell_type": "code",
   "execution_count": 27,
   "metadata": {},
   "outputs": [
    {
     "data": {
      "text/plain": [
       "<matplotlib.axes._subplots.AxesSubplot at 0x2775d850220>"
      ]
     },
     "execution_count": 27,
     "metadata": {},
     "output_type": "execute_result"
    },
    {
     "data": {
      "image/png": "[encoded data removed]",
      "text/plain": [
       "<Figure size 432x288 with 1 Axes>"
      ]
     },
     "metadata": {
      "needs_background": "light"
     },
     "output_type": "display_data"
    }
   ],
   "source": [
    "#host vs price\n",
    "host_id_avg.plot.bar(x='host_name', y='price', rot=90)\n"
   ]
  },
  {
   "cell_type": "code",
   "execution_count": 28,
   "metadata": {},
   "outputs": [
    {
     "data": {
      "text/plain": [
       "<matplotlib.axes._subplots.AxesSubplot at 0x2775d8a97c0>"
      ]
     },
     "execution_count": 28,
     "metadata": {},
     "output_type": "execute_result"
    },
    {
     "data": {
      "image/png": "[encoded data removed]",
      "text/plain": [
       "<Figure size 432x288 with 1 Axes>"
      ]
     },
     "metadata": {
      "needs_background": "light"
     },
     "output_type": "display_data"
    }
   ],
   "source": [
    "#roomtype vs price\n",
    "room_type_avg.plot.bar(x='room_type', y='price', rot=0)\n"
   ]
  },
  {
   "cell_type": "code",
   "execution_count": 29,
   "metadata": {},
   "outputs": [
    {
     "data": {
      "text/plain": [
       "<matplotlib.axes._subplots.AxesSubplot at 0x2775d924eb0>"
      ]
     },
     "execution_count": 29,
     "metadata": {},
     "output_type": "execute_result"
    },
    {
     "data": {
      "image/png": "[encoded data removed]",
      "text/plain": [
       "<Figure size 432x288 with 1 Axes>"
      ]
     },
     "metadata": {
      "needs_background": "light"
     },
     "output_type": "display_data"
    }
   ],
   "source": [
    "#neighbourhood vs price\n",
    "neighbourhood_avg.plot.bar(x='neighbourhood', y='price', rot=90)\n"
   ]
  },
  {
   "cell_type": "code",
   "execution_count": 30,
   "metadata": {},
   "outputs": [
    {
     "data": {
      "text/plain": [
       "<matplotlib.axes._subplots.AxesSubplot at 0x2775d7b3fd0>"
      ]
     },
     "execution_count": 30,
     "metadata": {},
     "output_type": "execute_result"
    },
    {
     "data": {
      "image/png": "[encoded data removed]",
      "text/plain": [
       "<Figure size 432x288 with 1 Axes>"
      ]
     },
     "metadata": {
      "needs_background": "light"
     },
     "output_type": "display_data"
    }
   ],
   "source": [
    "#Neighourhood group vs price\n",
    "neighbourhoodgroup_avg.plot.bar(x='neighbourhood_group', y='price', rot=0)\n"
   ]
  },
  {
   "cell_type": "code",
   "execution_count": null,
   "metadata": {},
   "outputs": [],
   "source": []
  }
 ],
 "metadata": {
  "kernelspec": {
   "display_name": "Python 3",
   "language": "python",
   "name": "python3"
  },
  "language_info": {
   "codemirror_mode": {
    "name": "ipython",
    "version": 3
   },
   "file_extension": ".py",
   "mimetype": "text/x-python",
   "name": "python",
   "nbconvert_exporter": "python",
   "pygments_lexer": "ipython3",
   "version": "3.8.3"
  }
 },
 "nbformat": 4,
 "nbformat_minor": 4
}
